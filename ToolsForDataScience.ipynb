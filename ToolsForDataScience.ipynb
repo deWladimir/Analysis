{
 "cells": [
  {
   "cell_type": "markdown",
   "id": "5176b2a1-e883-4261-b2fb-c8771c5aadcd",
   "metadata": {},
   "source": [
    "# My Jupyter Notebook For Tools For Data Science IBM Course"
   ]
  },
  {
   "cell_type": "markdown",
   "id": "833aef0c-4766-4c1d-806b-ee60d12c02bb",
   "metadata": {},
   "source": [
    "__Volodymyr Karpenko__\n",
    "<br>Full-stack developer aspiring to become a data scientist"
   ]
  },
  {
   "cell_type": "markdown",
   "id": "f3f5eed0-3983-4ecd-b360-a35a41794677",
   "metadata": {},
   "source": [
    "_I am willing to become a data scientist because I enjoy working with data.<br>I am curious about asking questions, checking hypothesis, getting insights and data-driven solutions.<br>Also I believe using AI, ML and Deep Learning techniques can change business for better._"
   ]
  },
  {
   "cell_type": "markdown",
   "id": "afe78f91-8fb0-41e3-875e-0f496cea32cb",
   "metadata": {},
   "source": [
    "## List of Data Science Languages"
   ]
  },
  {
   "cell_type": "markdown",
   "id": "8993819e-e9d1-489d-bd80-1269b62ac1e9",
   "metadata": {},
   "source": [
    "1. Python\n",
    "2. R\n",
    "3. SQL\n",
    "4. Scala\n",
    "5. C++\n",
    "6. Java\n",
    "7. Julia"
   ]
  },
  {
   "cell_type": "markdown",
   "id": "42990201-41d0-41fa-acff-dc20f6b5e2dc",
   "metadata": {},
   "source": [
    "## List of Data Science Libraries"
   ]
  },
  {
   "cell_type": "markdown",
   "id": "03af677c-afd1-41b3-9b8e-77fef9c74ddf",
   "metadata": {},
   "source": [
    "1. NumPy\n",
    "2. Pandas\n",
    "3. SciPy\n",
    "4. Matplotlib\n",
    "5. Keras\n",
    "6. TensorFlow\n",
    "7. SciKit-Learn\n",
    "8. PyTorch\n",
    "9. Scrapy\n",
    "10. Caffe2\n",
    "11. LightGBM\n",
    "12. ELI5\n",
    "13. BeautifulSoup\n",
    "14. etc"
   ]
  },
  {
   "cell_type": "markdown",
   "id": "329856e3-d0ba-4fcd-bcf5-de1e052f6f80",
   "metadata": {},
   "source": [
    "## Data Science Tools Table"
   ]
  },
  {
   "cell_type": "markdown",
   "id": "4b30c0b4-c430-4ca8-8a06-c9c7b4e9e9de",
   "metadata": {},
   "source": [
    "| Tool | Category |\n",
    "|------|----------|\n",
    "| MySQL | Data Management Tools |\n",
    "| PostgreSQL | Data Management Tools | \n",
    "| Oracle | Data Management Tools |\n",
    "| SQL Server | Data Management Tools |\n",
    "| IBM Db2 | Data Management Tools |\n",
    "| MongoDb | Data Management Tools |\n",
    "| Apache Cassandra | Data Management Tools |\n",
    "| Apache Hadoop | Data Management Tools |\n",
    "| Apache Spark | Data Management Tools |\n",
    "| Apache Airflow| Data Integration and Transformation Tools |\n",
    "| Apache Kafka | Data Integration and Transformation Tools |\n",
    "| Cognos Analytics | Data Visualization Tools |\n",
    "| PowerBI | Data Visualization Tools |\n",
    "| Tableu | Data Visualization Tools |\n",
    "| Git & GitHub | Code Asset Management Tools |\n",
    "| Visual Studio Code | Development Environments |\n",
    "| Jupyter Notebooks | Development Environments |\n",
    "| RStudio | Development Environments |\n"
   ]
  },
  {
   "cell_type": "markdown",
   "id": "7b3a2e10-1df5-4c77-97a6-752bea091109",
   "metadata": {},
   "source": [
    "## Introducing arithmetic expression examples"
   ]
  },
  {
   "cell_type": "markdown",
   "id": "336d1835-a0d7-436d-b8d5-df86c3a8583d",
   "metadata": {},
   "source": [
    "**All arithmetic operations are allowed in Jupyter:**\n",
    "- add (1+2)\n",
    "- subtract (1-2)\n",
    "- multiply (10*10)\n",
    "- divide (10/2)\n",
    "- pow (10**2)"
   ]
  },
  {
   "cell_type": "markdown",
   "id": "f4dab983-3192-4a43-a5fe-cceebe5905c1",
   "metadata": {},
   "source": [
    "## Multiply and add numbers"
   ]
  },
  {
   "cell_type": "code",
   "execution_count": 8,
   "id": "036d8acf-1cdd-4081-bf58-dc0935fb7684",
   "metadata": {},
   "outputs": [
    {
     "name": "stdout",
     "output_type": "stream",
     "text": [
      "Adding 1 + 2 + 3 + 4 =  10\n"
     ]
    }
   ],
   "source": [
    "print(\"Adding 1 + 2 + 3 + 4 = \", 1 + 2 + 3 + 4)"
   ]
  },
  {
   "cell_type": "code",
   "execution_count": 12,
   "id": "5b804f92-0e00-4236-b2a7-b65e5c74ea40",
   "metadata": {},
   "outputs": [
    {
     "name": "stdout",
     "output_type": "stream",
     "text": [
      "Multiplying 1 * 2 * 3 * 4 =  24\n"
     ]
    }
   ],
   "source": [
    "print(\"Multiplying 1 * 2 * 3 * 4 = \", 1 * 2 * 3 *4)"
   ]
  },
  {
   "cell_type": "markdown",
   "id": "e56f9413-eb66-4cb2-a6f0-4ab70ab1070e",
   "metadata": {},
   "source": [
    "## Convert minutes to hours"
   ]
  },
  {
   "cell_type": "code",
   "execution_count": 25,
   "id": "7162b9f0-87c6-4f14-b5c7-10165a165453",
   "metadata": {},
   "outputs": [],
   "source": [
    "def minutesToHours(minutes):\n",
    "    hours = minutes // 60\n",
    "    restMinutes = minutes % 60\n",
    "    print(f\"{minutes} minutes are {hours} hours and {restMinutes} minutes\")"
   ]
  },
  {
   "cell_type": "code",
   "execution_count": 27,
   "id": "e8ac3efb-9493-4f7e-833e-89f71cc68b41",
   "metadata": {},
   "outputs": [
    {
     "name": "stdout",
     "output_type": "stream",
     "text": [
      "123 minutes are 2 hours and 3 minutes\n"
     ]
    }
   ],
   "source": [
    "# run minutesToHours(minutes_value)\n",
    "minutesToHours(123)"
   ]
  },
  {
   "cell_type": "markdown",
   "id": "79dbaa1f-16d4-4909-ba03-2f76de3299ac",
   "metadata": {},
   "source": [
    "## Objectives"
   ]
  },
  {
   "cell_type": "markdown",
   "id": "17f619a8-25db-439a-9d54-582f0929403a",
   "metadata": {},
   "source": [
    "**Main goal is to get introduced to a Data Scientist's workbench or toolkit that consists of a variety of tools, languages, libraries, APIs, data sets, models, etc. used by Data Scientists.**\n",
    "<br>After learning the course I got knowledge about:\n",
    "- Data Science Tools\n",
    "- Languages of Data Science\n",
    "- Packages, APIs, Data Sets and Models\n",
    "- Jupyter Notebooks and JupyterLab\n",
    "- RStudio and GitHub"
   ]
  },
  {
   "cell_type": "code",
   "execution_count": null,
   "id": "b12d1d87-a9ad-43a0-b865-9c8c00579b8b",
   "metadata": {},
   "outputs": [],
   "source": []
  }
 ],
 "metadata": {
  "kernelspec": {
   "display_name": "Python 3 (ipykernel)",
   "language": "python",
   "name": "python3"
  },
  "language_info": {
   "codemirror_mode": {
    "name": "ipython",
    "version": 3
   },
   "file_extension": ".py",
   "mimetype": "text/x-python",
   "name": "python",
   "nbconvert_exporter": "python",
   "pygments_lexer": "ipython3",
   "version": "3.12.4"
  }
 },
 "nbformat": 4,
 "nbformat_minor": 5
}
