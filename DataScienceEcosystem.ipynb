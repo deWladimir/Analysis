{
 "cells": [
  {
   "cell_type": "markdown",
   "id": "5176b2a1-e883-4261-b2fb-c8771c5aadcd",
   "metadata": {},
   "source": [
    "# Data Science Tools and Ecosystem"
   ]
  },
  {
   "cell_type": "markdown",
   "id": "729188f1-2630-4857-9d96-777f21978a66",
   "metadata": {},
   "source": [
    "In this notebook, Data Science Tools and Ecosystem are summarized"
   ]
  },
  {
   "cell_type": "markdown",
   "id": "eb943d39-8acd-4dc9-831b-4647761562ea",
   "metadata": {},
   "source": [
    "**Objectives:**\n",
    "- List popular languages for Data Science\n",
    "- List popular tools for Data Science\n",
    "- Get familiar with RStudio\n",
    "- Get familiar with Jupyter Notebooks\n",
    "- Get familiar with Git & GitHub"
   ]
  },
  {
   "cell_type": "markdown",
   "id": "833aef0c-4766-4c1d-806b-ee60d12c02bb",
   "metadata": {},
   "source": [
    "## Author\n",
    "Volodymyr Karpenko"
   ]
  },
  {
   "cell_type": "markdown",
   "id": "afe78f91-8fb0-41e3-875e-0f496cea32cb",
   "metadata": {},
   "source": [
    "## List of Data Science Languages"
   ]
  },
  {
   "cell_type": "markdown",
   "id": "8993819e-e9d1-489d-bd80-1269b62ac1e9",
   "metadata": {},
   "source": [
    "Some of the popular languages that Data Scientists use are:\n",
    "1. Python\n",
    "2. R\n",
    "3. SQL\n",
    "4. Scala\n",
    "5. C++\n",
    "6. Java\n",
    "7. Julia"
   ]
  },
  {
   "cell_type": "markdown",
   "id": "42990201-41d0-41fa-acff-dc20f6b5e2dc",
   "metadata": {},
   "source": [
    "## List of Data Science Libraries"
   ]
  },
  {
   "cell_type": "markdown",
   "id": "03af677c-afd1-41b3-9b8e-77fef9c74ddf",
   "metadata": {},
   "source": [
    "Some of the commonly used libraries used by Data Scientists include:\r\n",
    "1. NumPy\n",
    "2. Pandas\n",
    "3. SciPy\n",
    "4. Matplotlib\n",
    "5. Keras\n",
    "6. TensorFlow\n",
    "7. SciKit-Learn\n",
    "8. PyTorch\n",
    "9. Scrapy\n",
    "10. Caffe2\n",
    "11. LightGBM\n",
    "12. ELI5\n",
    "13. BeautifulSouc"
   ]
  },
  {
   "cell_type": "markdown",
   "id": "329856e3-d0ba-4fcd-bcf5-de1e052f6f80",
   "metadata": {},
   "source": [
    "## Data Science Tools Table"
   ]
  },
  {
   "cell_type": "markdown",
   "id": "4b30c0b4-c430-4ca8-8a06-c9c7b4e9e9de",
   "metadata": {},
   "source": [
    "| Data Science Tools |\n",
    "|--------------------|\n",
    "| PostgreSQL | \n",
    "| Jupyter Notebooks |\n",
    "| RStudio | "
   ]
  },
  {
   "cell_type": "markdown",
   "id": "7b3a2e10-1df5-4c77-97a6-752bea091109",
   "metadata": {},
   "source": [
    "## Introducing arithmetic expression examples"
   ]
  },
  {
   "cell_type": "markdown",
   "id": "336d1835-a0d7-436d-b8d5-df86c3a8583d",
   "metadata": {},
   "source": [
    "### Below are a few examples of evaluating arithmetic expressions in Python"
   ]
  },
  {
   "cell_type": "code",
   "execution_count": 10,
   "id": "036d8acf-1cdd-4081-bf58-dc0935fb7684",
   "metadata": {},
   "outputs": [
    {
     "data": {
      "text/plain": [
       "17"
      ]
     },
     "execution_count": 10,
     "metadata": {},
     "output_type": "execute_result"
    }
   ],
   "source": [
    "# This a simple arithmetic expression to mutiply then add integers\n",
    "(3 * 4) + 5"
   ]
  },
  {
   "cell_type": "markdown",
   "id": "e56f9413-eb66-4cb2-a6f0-4ab70ab1070e",
   "metadata": {},
   "source": [
    "## Convert minutes to hours"
   ]
  },
  {
   "cell_type": "code",
   "execution_count": 14,
   "id": "7162b9f0-87c6-4f14-b5c7-10165a165453",
   "metadata": {},
   "outputs": [],
   "source": [
    "def minutesToHours(minutes):\n",
    "    hours = minutes // 60\n",
    "    restMinutes = minutes % 60\n",
    "    print(f\"{minutes} minutes are {hours} hours and {restMinutes} minutes\")"
   ]
  },
  {
   "cell_type": "code",
   "execution_count": 16,
   "id": "e8ac3efb-9493-4f7e-833e-89f71cc68b41",
   "metadata": {},
   "outputs": [
    {
     "name": "stdout",
     "output_type": "stream",
     "text": [
      "200 minutes are 3 hours and 20 minutes\n"
     ]
    }
   ],
   "source": [
    "# This will convert 200 minutes to hours by diving by 60\n",
    "minutesToHours(200)"
   ]
  }
 ],
 "metadata": {
  "kernelspec": {
   "display_name": "Python 3 (ipykernel)",
   "language": "python",
   "name": "python3"
  },
  "language_info": {
   "codemirror_mode": {
    "name": "ipython",
    "version": 3
   },
   "file_extension": ".py",
   "mimetype": "text/x-python",
   "name": "python",
   "nbconvert_exporter": "python",
   "pygments_lexer": "ipython3",
   "version": "3.12.4"
  }
 },
 "nbformat": 4,
 "nbformat_minor": 5
}
